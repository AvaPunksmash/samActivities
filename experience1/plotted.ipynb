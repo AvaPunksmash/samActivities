{
 "cells": [
  {
   "cell_type": "code",
   "execution_count": 18,
   "metadata": {},
   "outputs": [
    {
     "name": "stdout",
     "output_type": "stream",
     "text": [
      "Python version 3.7.2 (default, Jan  3 2019, 09:14:01) \n",
      "[GCC 8.2.1 20181215 (Red Hat 8.2.1-6)]\n",
      "Pandas version 0.24.0\n",
      "Matplotlib version 3.0.2\n"
     ]
    }
   ],
   "source": [
    "import matplotlib as mpl\n",
    "import matplotlib.pyplot as plt\n",
    "from pandas import DataFrame, read_csv\n",
    "import pandas as pd \n",
    "import sys\n",
    "%matplotlib inline\n",
    "print('Python version ' + sys.version)\n",
    "print('Pandas version ' + pd.__version__)\n",
    "print('Matplotlib version ' + mpl.__version__)"
   ]
  },
  {
   "cell_type": "code",
   "execution_count": 28,
   "metadata": {},
   "outputs": [
    {
     "data": {
      "text/html": [
       "<div>\n",
       "<style scoped>\n",
       "    .dataframe tbody tr th:only-of-type {\n",
       "        vertical-align: middle;\n",
       "    }\n",
       "\n",
       "    .dataframe tbody tr th {\n",
       "        vertical-align: top;\n",
       "    }\n",
       "\n",
       "    .dataframe thead th {\n",
       "        text-align: right;\n",
       "    }\n",
       "</style>\n",
       "<table border=\"1\" class=\"dataframe\">\n",
       "  <thead>\n",
       "    <tr style=\"text-align: right;\">\n",
       "      <th></th>\n",
       "      <th>sample</th>\n",
       "      <th>hardware_type</th>\n",
       "      <th>file_system</th>\n",
       "      <th>strategy</th>\n",
       "      <th>split_time</th>\n",
       "      <th>merge_time</th>\n",
       "      <th>config_file</th>\n",
       "    </tr>\n",
       "  </thead>\n",
       "  <tbody>\n",
       "    <tr>\n",
       "      <th>0</th>\n",
       "      <td>bigBrainSample0.nii</td>\n",
       "      <td>NaN</td>\n",
       "      <td>tmpfs</td>\n",
       "      <td>clustered</td>\n",
       "      <td>8.346149</td>\n",
       "      <td>22.852410</td>\n",
       "      <td>config.json</td>\n",
       "    </tr>\n",
       "    <tr>\n",
       "      <th>1</th>\n",
       "      <td>bigBrainSample0.nii</td>\n",
       "      <td>hdd</td>\n",
       "      <td>ext4</td>\n",
       "      <td>clustered</td>\n",
       "      <td>38.429100</td>\n",
       "      <td>46.021617</td>\n",
       "      <td>config.json</td>\n",
       "    </tr>\n",
       "    <tr>\n",
       "      <th>2</th>\n",
       "      <td>bigBrainSample0.nii</td>\n",
       "      <td>NaN</td>\n",
       "      <td>tmpfs</td>\n",
       "      <td>multiple</td>\n",
       "      <td>12.700467</td>\n",
       "      <td>28.388806</td>\n",
       "      <td>config.json</td>\n",
       "    </tr>\n",
       "    <tr>\n",
       "      <th>3</th>\n",
       "      <td>bigBrainSample0.nii</td>\n",
       "      <td>hdd</td>\n",
       "      <td>ext4</td>\n",
       "      <td>multiple</td>\n",
       "      <td>42.789440</td>\n",
       "      <td>52.074896</td>\n",
       "      <td>config.json</td>\n",
       "    </tr>\n",
       "    <tr>\n",
       "      <th>4</th>\n",
       "      <td>bigBrainSample0.nii</td>\n",
       "      <td>NaN</td>\n",
       "      <td>tmpfs</td>\n",
       "      <td>naive</td>\n",
       "      <td>19.527108</td>\n",
       "      <td>16.887440</td>\n",
       "      <td>config.json</td>\n",
       "    </tr>\n",
       "  </tbody>\n",
       "</table>\n",
       "</div>"
      ],
      "text/plain": [
       "                sample hardware_type file_system   strategy  split_time  \\\n",
       "0  bigBrainSample0.nii           NaN       tmpfs  clustered    8.346149   \n",
       "1  bigBrainSample0.nii           hdd        ext4  clustered   38.429100   \n",
       "2  bigBrainSample0.nii           NaN       tmpfs   multiple   12.700467   \n",
       "3  bigBrainSample0.nii           hdd        ext4   multiple   42.789440   \n",
       "4  bigBrainSample0.nii           NaN       tmpfs      naive   19.527108   \n",
       "\n",
       "   merge_time  config_file  \n",
       "0   22.852410  config.json  \n",
       "1   46.021617  config.json  \n",
       "2   28.388806  config.json  \n",
       "3   52.074896  config.json  \n",
       "4   16.887440  config.json  "
      ]
     },
     "execution_count": 28,
     "metadata": {},
     "output_type": "execute_result"
    }
   ],
   "source": [
    "filepath = 'output.csv'\n",
    "df = pd.read_csv(filepath)\n",
    "df['strategy'] = df['strategy'].map(lambda name : name.split('.')[1].lower())\n",
    "df.head()"
   ]
  },
  {
   "cell_type": "code",
   "execution_count": 49,
   "metadata": {},
   "outputs": [
    {
     "data": {
      "image/png": "[encoded data removed]",
      "text/plain": [
       "<Figure size 432x288 with 1 Axes>"
      ]
     },
     "metadata": {
      "needs_background": "light"
     },
     "output_type": "display_data"
    },
    {
     "data": {
      "image/png": "[encoded data removed]",
      "text/plain": [
       "<Figure size 432x288 with 1 Axes>"
      ]
     },
     "metadata": {
      "needs_background": "light"
     },
     "output_type": "display_data"
    },
    {
     "data": {
      "image/png": "[encoded data removed]",
      "text/plain": [
       "<Figure size 432x288 with 1 Axes>"
      ]
     },
     "metadata": {
      "needs_background": "light"
     },
     "output_type": "display_data"
    }
   ],
   "source": [
    "tmpfs=df[df['file_system'] == 'tmpfs']\n",
    "\n",
    "def plotByStrategy(strategyName, tmpfs):\n",
    "    tmpfs=tmpfs[tmpfs['strategy'] == strategyName]\n",
    "    axes = (tmpfs[['split_time','merge_time']]).plot(kind='bar', title=strategyName)\n",
    "    axes.set_xlabel(\"x label\")\n",
    "    axes.set_ylabel(\"time (sec)\")\n",
    "    \n",
    "plotByStrategy('clustered', tmpfs)\n",
    "plotByStrategy('multiple', tmpfs)\n",
    "plotByStrategy('naive', tmpfs)"
   ]
  }
 ],
 "metadata": {
  "kernelspec": {
   "display_name": "mySamEnv",
   "language": "python",
   "name": "mysamenv"
  },
  "language_info": {
   "codemirror_mode": {
    "name": "ipython",
    "version": 3
   },
   "file_extension": ".py",
   "mimetype": "text/x-python",
   "name": "python",
   "nbconvert_exporter": "python",
   "pygments_lexer": "ipython3",
   "version": "3.7.2"
  }
 },
 "nbformat": 4,
 "nbformat_minor": 2
}
