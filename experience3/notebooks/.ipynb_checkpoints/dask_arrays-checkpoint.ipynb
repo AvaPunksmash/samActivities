{
 "cells": [
  {
   "cell_type": "code",
   "execution_count": null,
   "metadata": {},
   "outputs": [],
   "source": [
    "cd .."
   ]
  },
  {
   "cell_type": "code",
   "execution_count": null,
   "metadata": {},
   "outputs": [],
   "source": [
    "from utils import create_random_cube, get_dask_array_from_hdf5, load_array_parts\n",
    "from utils import save_arr\n",
    "from benchmark import bench_load_array_parts, bench_rewrite\n",
    "import dask.array as da\n",
    "import h5py\n",
    "import time"
   ]
  },
  {
   "cell_type": "code",
   "execution_count": null,
   "metadata": {},
   "outputs": [],
   "source": [
    "get_dask_array_from_hdf5(file_path=\"/run/media/user/HDD 1TB/chunked_slabs_1000_200.hdf5\")"
   ]
  },
  {
   "cell_type": "code",
   "execution_count": null,
   "metadata": {},
   "outputs": [],
   "source": [
    "\"\"\"bench_rewrite(in_file_path=\"tests/data/sample.hdf5\",\n",
    "                  out_file_path=\"/run/media/user/HDD 1TB/chunked_slabs_1000_200.hdf5\",\n",
    "                  function=\"rechunk\",\n",
    "                  chunks_shape=(1000, 1000, 1))\"\"\""
   ]
  }
 ],
 "metadata": {
  "kernelspec": {
   "display_name": "dask_sam",
   "language": "python",
   "name": "dask_sam"
  },
  "language_info": {
   "codemirror_mode": {
    "name": "ipython",
    "version": 3
   },
   "file_extension": ".py",
   "mimetype": "text/x-python",
   "name": "python",
   "nbconvert_exporter": "python",
   "pygments_lexer": "ipython3",
   "version": "3.7.2"
  }
 },
 "nbformat": 4,
 "nbformat_minor": 2
}
