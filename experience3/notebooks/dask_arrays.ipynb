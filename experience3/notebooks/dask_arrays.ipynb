{
 "cells": [
  {
   "cell_type": "code",
   "execution_count": 1,
   "metadata": {},
   "outputs": [
    {
     "name": "stdout",
     "output_type": "stream",
     "text": [
      "/home/user/Documents/workspace/projects/samActivities/experience3\n"
     ]
    }
   ],
   "source": [
    "cd .."
   ]
  },
  {
   "cell_type": "code",
   "execution_count": 2,
   "metadata": {},
   "outputs": [
    {
     "ename": "ImportError",
     "evalue": "cannot import name 'naive_merge' from 'benchmark' (/home/user/Documents/workspace/projects/samActivities/experience3/benchmark.py)",
     "output_type": "error",
     "traceback": [
      "\u001b[0;31m---------------------------------------------------------------------------\u001b[0m",
      "\u001b[0;31mImportError\u001b[0m                               Traceback (most recent call last)",
      "\u001b[0;32m<ipython-input-2-c9e971e89a2d>\u001b[0m in \u001b[0;36m<module>\u001b[0;34m\u001b[0m\n\u001b[1;32m      1\u001b[0m \u001b[0;32mfrom\u001b[0m \u001b[0mutils\u001b[0m \u001b[0;32mimport\u001b[0m \u001b[0mcreate_random_cube\u001b[0m\u001b[0;34m,\u001b[0m \u001b[0mget_dask_array_from_hdf5\u001b[0m\u001b[0;34m,\u001b[0m \u001b[0mload_array_parts\u001b[0m\u001b[0;34m\u001b[0m\u001b[0;34m\u001b[0m\u001b[0m\n\u001b[1;32m      2\u001b[0m \u001b[0;32mfrom\u001b[0m \u001b[0mutils\u001b[0m \u001b[0;32mimport\u001b[0m \u001b[0msave_arr\u001b[0m\u001b[0;34m\u001b[0m\u001b[0;34m\u001b[0m\u001b[0m\n\u001b[0;32m----> 3\u001b[0;31m \u001b[0;32mfrom\u001b[0m \u001b[0mbenchmark\u001b[0m \u001b[0;32mimport\u001b[0m \u001b[0mbench_rewrite\u001b[0m\u001b[0;34m,\u001b[0m \u001b[0mbench_load_array_parts\u001b[0m\u001b[0;34m,\u001b[0m \u001b[0mnaive_merge\u001b[0m\u001b[0;34m\u001b[0m\u001b[0;34m\u001b[0m\u001b[0m\n\u001b[0m\u001b[1;32m      4\u001b[0m \u001b[0;32mimport\u001b[0m \u001b[0mdask\u001b[0m\u001b[0;34m.\u001b[0m\u001b[0marray\u001b[0m \u001b[0;32mas\u001b[0m \u001b[0mda\u001b[0m\u001b[0;34m\u001b[0m\u001b[0;34m\u001b[0m\u001b[0m\n\u001b[1;32m      5\u001b[0m \u001b[0;32mimport\u001b[0m \u001b[0mh5py\u001b[0m\u001b[0;34m\u001b[0m\u001b[0;34m\u001b[0m\u001b[0m\n",
      "\u001b[0;31mImportError\u001b[0m: cannot import name 'naive_merge' from 'benchmark' (/home/user/Documents/workspace/projects/samActivities/experience3/benchmark.py)"
     ]
    }
   ],
   "source": [
    "from utils import create_random_cube, get_dask_array_from_hdf5, load_array_parts\n",
    "from utils import save_arr\n",
    "from benchmark import bench_rewrite, bench_load_array_parts, naive_merge\n",
    "import dask.array as da\n",
    "import h5py\n",
    "import time"
   ]
  },
  {
   "cell_type": "code",
   "execution_count": null,
   "metadata": {},
   "outputs": [],
   "source": [
    "naive_merge()\n",
    "\n",
    "\"\"\"create_random_cube(storage_type=\"hdf5\", \n",
    "                   file_path=\"/run/media/user/HDD 1TB/bbsamplesize.hdf5\", \n",
    "                   shape=(1540,1210,1400),\n",
    "                   chunks_shape=None, \n",
    "                   dtype=\"float16\")\"\"\""
   ]
  }
 ],
 "metadata": {
  "kernelspec": {
   "display_name": "dask_sam",
   "language": "python",
   "name": "dask_sam"
  },
  "language_info": {
   "codemirror_mode": {
    "name": "ipython",
    "version": 3
   },
   "file_extension": ".py",
   "mimetype": "text/x-python",
   "name": "python",
   "nbconvert_exporter": "python",
   "pygments_lexer": "ipython3",
   "version": "3.7.2"
  }
 },
 "nbformat": 4,
 "nbformat_minor": 2
}
