{
 "cells": [
  {
   "cell_type": "code",
   "execution_count": 1,
   "metadata": {},
   "outputs": [
    {
     "name": "stdout",
     "output_type": "stream",
     "text": [
      "/home/user/Documents/workspace/projects/samActivities/experience3\n"
     ]
    }
   ],
   "source": [
    "cd .."
   ]
  },
  {
   "cell_type": "code",
   "execution_count": 2,
   "metadata": {},
   "outputs": [],
   "source": [
    "from utils import create_random_cube\n",
    "import dask.array as da\n",
    "import h5py\n",
    "import time"
   ]
  },
  {
   "cell_type": "code",
   "execution_count": 3,
   "metadata": {},
   "outputs": [],
   "source": [
    "create_random_cube(storage_type=\"hdf5\", \n",
    "                   file_path=\"tests/data/bbsamplesize.hdf5\", \n",
    "                   shape=(1540,1210,1400),\n",
    "                   chunks_shape=None, \n",
    "                   dtype=\"float16\")"
   ]
  }
 ],
 "metadata": {
  "kernelspec": {
   "display_name": "dask_sam",
   "language": "python",
   "name": "dask_sam"
  },
  "language_info": {
   "codemirror_mode": {
    "name": "ipython",
    "version": 3
   },
   "file_extension": ".py",
   "mimetype": "text/x-python",
   "name": "python",
   "nbconvert_exporter": "python",
   "pygments_lexer": "ipython3",
   "version": "3.7.2"
  }
 },
 "nbformat": 4,
 "nbformat_minor": 2
}
