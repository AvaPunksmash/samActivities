{
 "cells": [
  {
   "cell_type": "code",
   "execution_count": 1,
   "metadata": {},
   "outputs": [
    {
     "name": "stdout",
     "output_type": "stream",
     "text": [
      "/home/user/Documents/workspace/projects/samActivities/experience3\n"
     ]
    }
   ],
   "source": [
    "cd .."
   ]
  },
  {
   "cell_type": "code",
   "execution_count": 2,
   "metadata": {},
   "outputs": [],
   "source": [
    "from utils import create_random_cube, get_dask_array_from_hdf5, load_array_parts\n",
    "from benchmark import bench_load_array_parts\n",
    "import dask.array as da\n",
    "import h5py\n",
    "import time"
   ]
  },
  {
   "cell_type": "code",
   "execution_count": 3,
   "metadata": {},
   "outputs": [
    {
     "name": "stdout",
     "output_type": "stream",
     "text": [
      "procs -----------memory---------- ---swap-- -----io---- -system-- ------cpu-----\n",
      " r  b   swpd   free  inact active   si   so    bi    bo   in   cs us sy id wa st\n",
      " 0  0 2980096 6308936 773732 601472  213  399  2586   421  360  517  3  2 92  3  0\n",
      "\n",
      "procs -----------memory---------- ---swap-- -----io---- -system-- ------cpu-----\n",
      " r  b   swpd   free   buff  cache   si   so    bi    bo   in   cs us sy id wa st\n",
      " 0  0 2980096 6308880  20212 624048  213  399  2586   421  360  517  3  2 92  3  0\n",
      "\n",
      "procs -----------memory---------- ---swap-- -----io---- -system-- ------cpu-----\n",
      " r  b   swpd   free  inact active   si   so    bi    bo   in   cs us sy id wa st\n",
      " 0  0 3002624 143232 1461332 6072744  212  399  2740   421  363  520  3  2 92  3  0\n",
      "\n",
      "procs -----------memory---------- ---swap-- -----io---- -system-- ------cpu-----\n",
      " r  b   swpd   free   buff  cache   si   so    bi    bo   in   cs us sy id wa st\n",
      " 0  0 3002624 142720   4364 2941196  212  399  2740   421  363  520  3  2 92  3  0\n",
      "\n",
      "procs -----------memory---------- ---swap-- -----io---- -system-- ------cpu-----\n",
      " r  b   swpd   free  inact active   si   so    bi    bo   in   cs us sy id wa st\n",
      " 0  0 2982400 147052 1569832 5956964  213  399  2740   420  363  520  3  2 92  3  0\n",
      "\n",
      "procs -----------memory---------- ---swap-- -----io---- -system-- ------cpu-----\n",
      " r  b   swpd   free   buff  cache   si   so    bi    bo   in   cs us sy id wa st\n",
      " 0  0 2982400 147720   7556 2930196  213  399  2740   420  363  520  3  2 92  3  0\n",
      "\n",
      "procs -----------memory---------- ---swap-- -----io---- -system-- ------cpu-----\n",
      " r  b   swpd   free  inact active   si   so    bi    bo   in   cs us sy id wa st\n",
      " 1  3 3411644 3340728 213556 4127300  231  452  2877   473  380  530  3  2 92  3  0\n",
      "\n",
      "procs -----------memory---------- ---swap-- -----io---- -system-- ------cpu-----\n",
      " r  b   swpd   free   buff  cache   si   so    bi    bo   in   cs us sy id wa st\n",
      " 0  4 3406780 3326712   5848 288892  231  452  2877   473  380  530  3  2 92  3  0\n",
      "\n"
     ]
    }
   ],
   "source": [
    "bench_load_array_parts()"
   ]
  },
  {
   "cell_type": "code",
   "execution_count": null,
   "metadata": {},
   "outputs": [],
   "source": []
  }
 ],
 "metadata": {
  "kernelspec": {
   "display_name": "dask_sam",
   "language": "python",
   "name": "dask_sam"
  },
  "language_info": {
   "codemirror_mode": {
    "name": "ipython",
    "version": 3
   },
   "file_extension": ".py",
   "mimetype": "text/x-python",
   "name": "python",
   "nbconvert_exporter": "python",
   "pygments_lexer": "ipython3",
   "version": "3.7.2"
  }
 },
 "nbformat": 4,
 "nbformat_minor": 2
}
